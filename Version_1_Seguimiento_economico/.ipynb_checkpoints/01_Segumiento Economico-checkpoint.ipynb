{
 "cells": [
  {
   "cell_type": "markdown",
   "id": "16d1dbbd-0e5a-4376-8ff8-fe7767a42716",
   "metadata": {},
   "source": [
    "## 1. Librerias"
   ]
  },
  {
   "cell_type": "code",
   "execution_count": 1,
   "id": "b1c2acda-864b-4822-b020-a12adfc5410e",
   "metadata": {},
   "outputs": [],
   "source": [
    "import pandas as pd\n",
    "import geopandas as gpd\n",
    "from google.cloud import bigquery\n",
    "import matplotlib as mpl\n",
    "import pygeos\n",
    "import multiprocessing as mp\n",
    "import numpy as np\n",
    "import pyproj"
   ]
  },
  {
   "cell_type": "code",
   "execution_count": 2,
   "id": "77e1ed8a-e68f-45ed-80b8-7131f95c73b4",
   "metadata": {
    "tags": []
   },
   "outputs": [],
   "source": [
    "# !pip install geopandas"
   ]
  },
  {
   "cell_type": "markdown",
   "id": "6766824b-b7fc-42eb-bc6b-185eebe1e65e",
   "metadata": {},
   "source": [
    "## 2. Autenticacion"
   ]
  },
  {
   "cell_type": "code",
   "execution_count": 3,
   "id": "e71db553-e1e4-4d96-974d-778d45e41f92",
   "metadata": {},
   "outputs": [
    {
     "name": "stdout",
     "output_type": "stream",
     "text": [
      "Client creating using default project: insights-295219\n"
     ]
    }
   ],
   "source": [
    "client = bigquery.Client(location=\"US\")\n",
    "print(\"Client creating using default project: {}\".format(client.project))"
   ]
  },
  {
   "cell_type": "markdown",
   "id": "a12bc707-6f99-4eff-9854-ea5dd2c1e5d4",
   "metadata": {},
   "source": [
    "## 3. Funciones"
   ]
  },
  {
   "cell_type": "code",
   "execution_count": 4,
   "id": "c1437a06-d1b9-4447-a866-60c89d9efc34",
   "metadata": {},
   "outputs": [],
   "source": [
    "def sjoin_propio(data_1, data_2):\n",
    "    return gpd.sjoin_nearest(data_1,data_2, how='left')"
   ]
  },
  {
   "cell_type": "code",
   "execution_count": 5,
   "id": "622f5011-aa6d-451d-9db8-99fb00ed2f41",
   "metadata": {},
   "outputs": [],
   "source": [
    "def parallelize():\n",
    "    cpus = mp.cpu_count()\n",
    "    \n",
    "    intersection_chunks = np.array_split(final, cpus)\n",
    "    \n",
    "    pool = mp.Pool(processes=cpus)\n",
    "    \n",
    "    chunk_processes = [pool.apply_async(sjoin_propio, args=(chunk, localidades)) for chunk in intersection_chunks]\n",
    "    \n",
    "    intersection_results = [chunk.get() for chunk in chunk_processes]\n",
    "    \n",
    "    intersections_dist = gpd.GeoDataFrame(pd.concat(intersection_results), crs=final.crs)\n",
    "\n",
    "    return intersections_dist"
   ]
  },
  {
   "cell_type": "markdown",
   "id": "2eb9508c-4e97-4779-9440-9f7d14bf136e",
   "metadata": {},
   "source": [
    "## 3. Cargar Bases"
   ]
  },
  {
   "cell_type": "code",
   "execution_count": null,
   "id": "72241b6a-1aa4-4963-a31b-698b6da1655a",
   "metadata": {},
   "outputs": [],
   "source": [
    "## Base de credibanco segundas variables\n",
    "query = \"\"\"\n",
    "    SELECT ventas,coordinates\n",
    "    FROM `landing_prod.credibanco_transactions`\n",
    "    WHERE fecha_autorizacion >= '2021-05-01'\n",
    "\"\"\"\n",
    "query_job = client.query(\n",
    "    query,\n",
    "    # Location must match that of the dataset(s) referenced in the query.\n",
    "    location=\"US\",\n",
    ")  # API request - starts the query\n",
    "\n",
    "credibanco_2= query_job.to_dataframe()\n",
    "\n",
    "## Base de credibanco primeras variables\n",
    "query = \"\"\"\n",
    "    SELECT fecha_autorizacion, id_mcc, id_lugar\n",
    "    FROM `landing_prod.credibanco_transactions`\n",
    "    WHERE fecha_autorizacion >= '2021-05-01'\n",
    "\"\"\"\n",
    "query_job = client.query(\n",
    "    query,\n",
    "    # Location must match that of the dataset(s) referenced in the query.\n",
    "    location=\"US\",\n",
    ")  # API request - starts the query\n",
    "\n",
    "credibanco_1= query_job.to_dataframe()\n",
    "## Base de administrativos\n",
    "localidades=gpd.read_file('GE00_BOG_administrativo.geojson', encoding='utf-8')"
   ]
  },
  {
   "cell_type": "markdown",
   "id": "9a088039-6dfc-41e9-b4c5-3f4410437174",
   "metadata": {},
   "source": [
    "## 4. Proceso de datos"
   ]
  },
  {
   "cell_type": "markdown",
   "id": "4e0bc475-b03c-4dca-ab26-6c03822ae9dc",
   "metadata": {},
   "source": [
    "### 4.1 Union bases credibanco"
   ]
  },
  {
   "cell_type": "code",
   "execution_count": null,
   "id": "715e7008-7395-4102-be7b-f1392731f2a9",
   "metadata": {},
   "outputs": [],
   "source": [
    "final = pd.concat([credibanco_1,credibanco_2], axis=1)\n",
    "final['ventas']=final['ventas'].astype(float)"
   ]
  },
  {
   "cell_type": "code",
   "execution_count": null,
   "id": "b2d4de36-73af-4898-ba00-355bb86d87e4",
   "metadata": {},
   "outputs": [],
   "source": [
    "final.info()"
   ]
  },
  {
   "cell_type": "markdown",
   "id": "092811a3-591a-4592-aaa8-a8ddd9357923",
   "metadata": {},
   "source": [
    "### 4.2 Bases de credibanco en formato geografico"
   ]
  },
  {
   "cell_type": "code",
   "execution_count": null,
   "id": "a4b1e795-3dbd-4194-b9d5-567c3faf10d8",
   "metadata": {
    "tags": []
   },
   "outputs": [],
   "source": [
    "final['coordinates'] = gpd.GeoSeries.from_wkt(final['coordinates'])\n",
    "final = gpd.GeoDataFrame(final , geometry='coordinates',crs='epsg:4326')"
   ]
  },
  {
   "cell_type": "code",
   "execution_count": null,
   "id": "bc00c315-953f-4c40-8720-82b2a65ac11f",
   "metadata": {},
   "outputs": [],
   "source": [
    "# final.info()"
   ]
  },
  {
   "cell_type": "code",
   "execution_count": null,
   "id": "db60e8d6-32fb-4732-abf0-b0a4540288d5",
   "metadata": {},
   "outputs": [],
   "source": [
    "# localidades.info()"
   ]
  },
  {
   "cell_type": "markdown",
   "id": "37bd8c40-644f-4aec-b376-e325b726a904",
   "metadata": {},
   "source": [
    "### 4.3 Base credibanco con mismo crs que localidades"
   ]
  },
  {
   "cell_type": "code",
   "execution_count": null,
   "id": "8bc741fd-5c3d-4788-951a-a411c9d08a99",
   "metadata": {},
   "outputs": [],
   "source": [
    "final = final.to_crs(localidades.crs)"
   ]
  },
  {
   "cell_type": "code",
   "execution_count": null,
   "id": "30f7bdaf-8f70-4405-9e8b-74c63028b7ad",
   "metadata": {},
   "outputs": [],
   "source": [
    "# final.crs"
   ]
  },
  {
   "cell_type": "code",
   "execution_count": null,
   "id": "f4d59f5a-7172-45b0-87dd-6746060cafc8",
   "metadata": {},
   "outputs": [],
   "source": [
    "# localidades.crs"
   ]
  },
  {
   "cell_type": "markdown",
   "id": "be89dad0-fe59-462c-852d-d3f5dadfd819",
   "metadata": {},
   "source": [
    "### 4.4 Variables de año y mes"
   ]
  },
  {
   "cell_type": "code",
   "execution_count": null,
   "id": "69c7b38b-52a1-4cd8-a11a-6b478e406aca",
   "metadata": {},
   "outputs": [],
   "source": [
    "final['mes']= pd.DatetimeIndex(final['fecha_autorizacion']).month\n",
    "final['year']= pd.DatetimeIndex(final['fecha_autorizacion']).year"
   ]
  },
  {
   "cell_type": "markdown",
   "id": "07ffb857-0e2d-49eb-b1a4-d84c006a9459",
   "metadata": {},
   "source": [
    "## 5. Union espacial credibanco y su respectivas variables geograficas"
   ]
  },
  {
   "cell_type": "code",
   "execution_count": null,
   "id": "2859877d-8c61-4c79-9e35-8a7f4da1d6bb",
   "metadata": {
    "tags": []
   },
   "outputs": [],
   "source": [
    "if __name__ == '__main__':\n",
    "    \n",
    "    final= parallelize()\n",
    "    final.info()"
   ]
  },
  {
   "cell_type": "code",
   "execution_count": null,
   "id": "6cc22ce6-a804-4d5e-b0ef-4b6ff53caaef",
   "metadata": {
    "tags": []
   },
   "outputs": [],
   "source": [
    "# final = gpd.sjoin_nearest(final,localidades, how='left')\n",
    "# final.info() "
   ]
  },
  {
   "cell_type": "markdown",
   "id": "90e2483c-574d-4feb-bc03-31bd66dcb0b3",
   "metadata": {},
   "source": [
    "## 6 .Creacion de Variables colapsadas"
   ]
  },
  {
   "cell_type": "code",
   "execution_count": null,
   "id": "7d40ed37-f7ff-44c3-83c3-2e66d9180983",
   "metadata": {},
   "outputs": [],
   "source": [
    "ventas = final.groupby(['year','mes','Nombre_Loc','ID_estrato','id_mcc','ID_Barrio'], dropna=False).agg(ventas_sum= ('ventas','sum'),\n",
    "                                                                                        ventas_count= ('ventas','count'),\n",
    "                                                                                        comercios= ('id_lugar','count')).reset_index()\n",
    "# numero = final.groupby(['mes','Nombre_Loc','Nombre_UPZ','ID_estrato'], dropna=False).count().reset_index()[['ventas']]\n",
    "# promedio = final.groupby(['mes','Nombre_Loc','Nombre_UPZ','ID_estrato'], dropna=False).mean().reset_index()[['ventas']]"
   ]
  },
  {
   "cell_type": "code",
   "execution_count": null,
   "id": "be7f54ae-88b4-4ee2-81aa-fdf88574ad18",
   "metadata": {},
   "outputs": [],
   "source": [
    "# ventas['day']=1\n",
    "# ventas['month']=ventas['mes']\n",
    "# pd.to_datetime(ventas[['year','month','day']])"
   ]
  },
  {
   "cell_type": "markdown",
   "id": "7028b9c5-b509-4ded-9674-517a293210b5",
   "metadata": {},
   "source": [
    "## 7. Bases de mapas"
   ]
  },
  {
   "cell_type": "code",
   "execution_count": null,
   "id": "2a8b570a-5fbb-46aa-a509-5454201fbe03",
   "metadata": {},
   "outputs": [],
   "source": [
    "mapa = final.groupby(['year','mes','Nombre_Loc','ID_Barrio','Nombre_UPZ','ID_estrato'], dropna=False).agg(ventas_sum= ('ventas','sum'),\n",
    "                                                                                    ventas_count= ('ventas','sum')).reset_index()\n",
    "mapa = pd.merge(mapa,localidades, on = ['Nombre_Loc','ID_Barrio','Nombre_UPZ','ID_estrato'], how='left', validate='many_to_one')\n",
    "mapa = gpd.GeoDataFrame(mapa,geometry='geometry', crs=localidades.crs)\n",
    "mapa.info()"
   ]
  },
  {
   "cell_type": "code",
   "execution_count": null,
   "id": "8c2769de-919d-4c05-adc7-92ccaef5a428",
   "metadata": {},
   "outputs": [],
   "source": [
    "mapa"
   ]
  },
  {
   "cell_type": "code",
   "execution_count": null,
   "id": "c903dda9-c34b-49a5-b519-5994f800597d",
   "metadata": {},
   "outputs": [],
   "source": [
    "mapa_agr= mapa.dissolve(by=['Nombre_Loc','year','mes'], aggfunc='sum')\n",
    "mapa_agr=mapa_agr.reset_index()\n",
    "mapa_agr= mapa_agr.explode(index_parts=False)\n",
    "# from shapely.ops import orient # version >=1.7a2\n",
    "# mapa_agr['geometry'] = mapa_agr['geometry'].apply(orient, args=(-1,))\n",
    "from shapely import wkt\n",
    "mapa_agr['geometry'] = mapa_agr['geometry'].boundary\n",
    "# mapa_agr = pd.DataFrame(mapa_agr)\n",
    "\n",
    "# mapa_agr.to_file(\"mapa_agr.geojson\", driver='GeoJSON')\n",
    "# mapa_agr =gpd.read_file('mapa_agr.geojson', encoding='utf-8')\n",
    "# mapa_agr= mapa_agr.explode()\n",
    "# mapa_agr=mapa_agr.reset_index(drop=True)\n",
    "# # mapa_agr['geometry']=mapa_agr['geometry'].to_wkt()\n",
    "# mapa_agr = gpd.GeoDataFrame(mapa_agr , crs = mapa.crs, geometry='geometry')\n"
   ]
  },
  {
   "cell_type": "code",
   "execution_count": null,
   "id": "f6fef87e-606c-401e-a536-dc3b5c2cb8b6",
   "metadata": {},
   "outputs": [],
   "source": [
    "mapa_agr.plot()"
   ]
  },
  {
   "cell_type": "code",
   "execution_count": null,
   "id": "3e4cbefb-bcb7-4ad9-8fb2-91810fc1bea3",
   "metadata": {},
   "outputs": [],
   "source": [
    "mapa_agr.info()"
   ]
  },
  {
   "cell_type": "code",
   "execution_count": null,
   "id": "250cc2c0-7e85-48e0-b60a-187ac7420336",
   "metadata": {},
   "outputs": [],
   "source": [
    "# mapa_agr=pd.DataFrame(mapa_agr)"
   ]
  },
  {
   "cell_type": "code",
   "execution_count": null,
   "id": "210e8ee7-649d-409c-8357-478edc4b7a71",
   "metadata": {},
   "outputs": [],
   "source": [
    "# mapa_agr.to_file(\"mapa_agr.geojson\", driver='GeoJSON')\n",
    "# mapa_agr =gpd.read_file('mapa_agr.geojson', encoding='utf-8')"
   ]
  },
  {
   "cell_type": "code",
   "execution_count": null,
   "id": "5124e983-3f3a-43f3-a59d-ad809ad32773",
   "metadata": {},
   "outputs": [],
   "source": [
    "ventas = ventas.fillna('NaN')\n",
    "# mapa['geometry'] = mapa['geometry'].fillna()\n",
    "# mapa = mapa.fillna('NaN')\n",
    "\n",
    "# mapa_agr['geometry'] = mapa_agr['geometry'].fillna()\n",
    "# mapa_agr = mapa_agr.fillna('NaN')"
   ]
  },
  {
   "cell_type": "code",
   "execution_count": null,
   "id": "38eecc98-1376-4b87-bc03-2b081236795d",
   "metadata": {},
   "outputs": [],
   "source": [
    "mapa.info()"
   ]
  },
  {
   "cell_type": "code",
   "execution_count": null,
   "id": "c05d5f3f-2e23-4357-b3a3-e9c4a25ed062",
   "metadata": {},
   "outputs": [],
   "source": [
    "ventas.info()"
   ]
  },
  {
   "cell_type": "markdown",
   "id": "1b780fcc-742d-493b-8191-115a880ce10a",
   "metadata": {},
   "source": [
    "## Exportar Base"
   ]
  },
  {
   "cell_type": "code",
   "execution_count": null,
   "id": "06c397ab-c9d2-4a11-8d8a-40924bd4ac3f",
   "metadata": {},
   "outputs": [],
   "source": [
    "client = bigquery.Client(location=\"US\")\n",
    "print(\"Client creating using default project: {}\".format(client.project))"
   ]
  },
  {
   "cell_type": "code",
   "execution_count": null,
   "id": "80bb52f2-acf8-4c83-b1a5-997099f5d703",
   "metadata": {},
   "outputs": [],
   "source": [
    "# Define a name for the new dataset.\n",
    "dataset_id = 'workzone'\n",
    "\n",
    "# The project defaults to the Client's project if not specified.\n",
    "dataset = client.get_dataset(dataset_id)  # API request"
   ]
  },
  {
   "cell_type": "markdown",
   "id": "ded5d2a3-2945-4147-abc2-f3113d9b7295",
   "metadata": {},
   "source": [
    "## Exportar tabla con informacion de ventas"
   ]
  },
  {
   "cell_type": "code",
   "execution_count": null,
   "id": "79d2cc5d-d4d8-475c-bed6-d6159cf9b4e0",
   "metadata": {},
   "outputs": [],
   "source": [
    "table_ref = dataset.table(\"SE_02_map_seguimiento\")\n",
    "\n",
    "job_config = bigquery.job.LoadJobConfig()\n",
    "job_config.write_disposition = bigquery.WriteDisposition.WRITE_TRUNCATE\n",
    "\n",
    "job = client.load_table_from_dataframe(mapa , table_ref, location=\"US\", job_config=job_config)\n",
    "\n",
    "job.result()  # Waits for table load to complete.\n",
    "print(\"Loaded dataframe to {}\".format(table_ref.path))"
   ]
  },
  {
   "cell_type": "code",
   "execution_count": null,
   "id": "5abc90c9-b307-44dc-bfb1-2ef737872342",
   "metadata": {},
   "outputs": [],
   "source": [
    "## Exportar mapa con geomtrias de estrato, localidades, etc."
   ]
  },
  {
   "cell_type": "code",
   "execution_count": null,
   "id": "22650582-904a-4fb0-89fd-5c3dc1c030ef",
   "metadata": {},
   "outputs": [],
   "source": [
    "table_ref = dataset.table(\"SE_01_base_seguimiento\")\n",
    "\n",
    "job_config = bigquery.job.LoadJobConfig()\n",
    "job_config.write_disposition = bigquery.WriteDisposition.WRITE_TRUNCATE\n",
    "\n",
    "job = client.load_table_from_dataframe(ventas , table_ref, location=\"US\")\n",
    "\n",
    "job.result()  # Waits for table load to complete.\n",
    "print(\"Loaded dataframe to {}\".format(table_ref.path))"
   ]
  },
  {
   "cell_type": "code",
   "execution_count": null,
   "id": "893304e8-fcfd-43fc-bf45-6ddb9136eaa3",
   "metadata": {},
   "outputs": [],
   "source": [
    "table_ref = dataset.table(\"SE_03_maplocalidades_seguimiento\")\n",
    "\n",
    "job_config = bigquery.job.LoadJobConfig()\n",
    "job_config.write_disposition = bigquery.WriteDisposition.WRITE_TRUNCATE\n",
    "\n",
    "job = client.load_table_from_dataframe(mapa_agr , table_ref, location=\"US\")\n",
    "\n",
    "job.result()  # Waits for table load to complete.\n",
    "print(\"Loaded dataframe to {}\".format(table_ref.path))"
   ]
  },
  {
   "cell_type": "code",
   "execution_count": null,
   "id": "69b15177-4495-448f-9b46-138814198a91",
   "metadata": {},
   "outputs": [],
   "source": [
    "# client = bigquery.Client(location=\"us-east4\",project='atlas-323415')\n",
    "# print(\"Client creating using default project: {}\".format(client.project))\n",
    "# # Define a name for the new dataset.\n",
    "# dataset_id = 'creditos'\n",
    "\n",
    "# # The project defaults to the Client's project if not specified.\n",
    "# dataset = client.get_dataset(dataset_id)  # API reque<zqa12cxst\n",
    "# table_ref = dataset.table(\"SE_01_base_seguimiento\")\n",
    "# job_config = bigquery.job.LoadJobConfig()\n",
    "# job_config.write_disposition = bigquery.WriteDisposition.WRITE_TRUNCATE\n",
    "\n",
    "# job = client.load_table_from_dataframe(ventas , table_ref, location=\"US\")\n",
    "\n",
    "# job.result()  # Waits for table load to complete.\n",
    "# print(\"Loaded dataframe to {}\".format(table_ref.path))"
   ]
  },
  {
   "cell_type": "code",
   "execution_count": null,
   "id": "7bcc1d8c-e221-436e-a06c-364a60aea608",
   "metadata": {},
   "outputs": [],
   "source": []
  }
 ],
 "metadata": {
  "environment": {
   "kernel": "conda-root-py",
   "name": "common-cpu.m87",
   "type": "gcloud",
   "uri": "gcr.io/deeplearning-platform-release/base-cpu:m87"
  },
  "kernelspec": {
   "display_name": "Python [conda env:root] *",
   "language": "python",
   "name": "conda-root-py"
  },
  "language_info": {
   "codemirror_mode": {
    "name": "ipython",
    "version": 3
   },
   "file_extension": ".py",
   "mimetype": "text/x-python",
   "name": "python",
   "nbconvert_exporter": "python",
   "pygments_lexer": "ipython3",
   "version": "3.7.12"
  }
 },
 "nbformat": 4,
 "nbformat_minor": 5
}
