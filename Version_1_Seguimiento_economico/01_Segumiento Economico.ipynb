{
 "cells": [
  {
   "cell_type": "markdown",
   "id": "a08752e7-844e-41df-9454-76badd61525a",
   "metadata": {
    "tags": []
   },
   "source": [
    "# Este Script procesa los datos de las transaccion de Credibanco y exporta bases para el Dashboard de seguimiento economico interno, contiene:\n",
    "> 1. Libreria , autenticacion y funciones\n",
    "> 2. Carga y proceso de Bases \n",
    "> 3. Exportacion de Bases procesadas"
   ]
  },
  {
   "cell_type": "markdown",
   "id": "16d1dbbd-0e5a-4376-8ff8-fe7767a42716",
   "metadata": {
    "tags": []
   },
   "source": [
    "## 1. Librerias"
   ]
  },
  {
   "cell_type": "code",
   "execution_count": 7,
   "id": "b1c2acda-864b-4822-b020-a12adfc5410e",
   "metadata": {},
   "outputs": [],
   "source": [
    "import pandas as pd\n",
    "import geopandas as gpd\n",
    "from google.cloud import bigquery\n",
    "import matplotlib as mpl\n",
    "import pygeos\n",
    "import multiprocessing as mp\n",
    "import numpy as np\n",
    "import pyproj"
   ]
  },
  {
   "cell_type": "code",
   "execution_count": 8,
   "id": "77e1ed8a-e68f-45ed-80b8-7131f95c73b4",
   "metadata": {
    "tags": []
   },
   "outputs": [],
   "source": [
    "# !pip install geopandas"
   ]
  },
  {
   "cell_type": "markdown",
   "id": "6766824b-b7fc-42eb-bc6b-185eebe1e65e",
   "metadata": {
    "tags": []
   },
   "source": [
    "## 2. Autenticacion"
   ]
  },
  {
   "cell_type": "code",
   "execution_count": 9,
   "id": "e71db553-e1e4-4d96-974d-778d45e41f92",
   "metadata": {},
   "outputs": [
    {
     "name": "stdout",
     "output_type": "stream",
     "text": [
      "Client creating using default project: insights-295219\n"
     ]
    }
   ],
   "source": [
    "client = bigquery.Client(location=\"US\")\n",
    "print(\"Client creating using default project: {}\".format(client.project))"
   ]
  },
  {
   "cell_type": "markdown",
   "id": "a12bc707-6f99-4eff-9854-ea5dd2c1e5d4",
   "metadata": {
    "jp-MarkdownHeadingCollapsed": true,
    "tags": []
   },
   "source": [
    "## 3. Funciones"
   ]
  },
  {
   "cell_type": "code",
   "execution_count": 10,
   "id": "c1437a06-d1b9-4447-a866-60c89d9efc34",
   "metadata": {},
   "outputs": [],
   "source": [
    "def sjoin_propio(data_1, data_2):\n",
    "    return gpd.sjoin_nearest(data_1,data_2, how='left')"
   ]
  },
  {
   "cell_type": "code",
   "execution_count": 11,
   "id": "622f5011-aa6d-451d-9db8-99fb00ed2f41",
   "metadata": {},
   "outputs": [],
   "source": [
    "def parallelize():\n",
    "    cpus = mp.cpu_count()\n",
    "    \n",
    "    intersection_chunks = np.array_split(final, cpus)\n",
    "    \n",
    "    pool = mp.Pool(processes=cpus)\n",
    "    \n",
    "    chunk_processes = [pool.apply_async(sjoin_propio, args=(chunk, localidades)) for chunk in intersection_chunks]\n",
    "    \n",
    "    intersection_results = [chunk.get() for chunk in chunk_processes]\n",
    "    \n",
    "    intersections_dist = gpd.GeoDataFrame(pd.concat(intersection_results), crs=final.crs)\n",
    "\n",
    "    return intersections_dist"
   ]
  },
  {
   "cell_type": "markdown",
   "id": "2eb9508c-4e97-4779-9440-9f7d14bf136e",
   "metadata": {
    "tags": []
   },
   "source": [
    "## 3. Cargar Bases"
   ]
  },
  {
   "cell_type": "code",
   "execution_count": 12,
   "id": "72241b6a-1aa4-4963-a31b-698b6da1655a",
   "metadata": {
    "tags": []
   },
   "outputs": [],
   "source": [
    "## Base de credibanco segundas variables\n",
    "query = \"\"\"\n",
    "    SELECT ventas,coordinates\n",
    "    FROM `landing_prod.credibanco_transactions`\n",
    "    WHERE fecha_autorizacion >= '2021-01-01'\n",
    "\"\"\"\n",
    "query_job = client.query(\n",
    "    query,\n",
    "    # Location must match that of the dataset(s) referenced in the query.\n",
    "    location=\"US\",\n",
    ")  # API request - starts the query\n",
    "\n",
    "credibanco_2= query_job.to_dataframe()\n",
    "\n",
    "## Base de credibanco primeras variables\n",
    "query = \"\"\"\n",
    "    SELECT fecha_autorizacion, id_mcc, id_lugar\n",
    "    FROM `landing_prod.credibanco_transactions`\n",
    "    WHERE fecha_autorizacion >= '2021-01-01'\n",
    "\"\"\"\n",
    "query_job = client.query(\n",
    "    query,\n",
    "    # Location must match that of the dataset(s) referenced in the query.\n",
    "    location=\"US\",\n",
    ")  # API request - starts the query\n",
    "\n",
    "credibanco_1= query_job.to_dataframe()\n",
    "## Base de administrativos\n",
    "localidades=gpd.read_file('GE00_BOG_administrativo.geojson', encoding='utf-8')\n",
    "##\n",
    "## Base de localidades\n",
    "query = \"\"\"\n",
    "    SELECT *\n",
    "    FROM `landing_prod.Localidades`\n",
    "\n",
    "\"\"\"\n",
    "query_job = client.query(\n",
    "    query,\n",
    "    # Location must match that of the dataset(s) referenced in the query.\n",
    "    location=\"US\",\n",
    ")  # API request - starts the query\n",
    "\n",
    "localidades_gr= query_job.to_dataframe()\n",
    "localidades_gr['geometry']= gpd.GeoSeries.from_wkt(localidades_gr['geometry'])\n",
    "localidades_gr = gpd.GeoDataFrame(localidades_gr, geometry='geometry', crs= localidades.crs)"
   ]
  },
  {
   "cell_type": "code",
   "execution_count": 13,
   "id": "ca6a4f50-37f3-4fa0-a628-ee129813dbd1",
   "metadata": {},
   "outputs": [],
   "source": [
    "## Base de localidades\n",
    "query = \"\"\"\n",
    "    SELECT *\n",
    "    FROM `landing_prod.Localidades`\n",
    "\n",
    "\"\"\"\n",
    "query_job = client.query(\n",
    "    query,\n",
    "    # Location must match that of the dataset(s) referenced in the query.\n",
    "    location=\"US\",\n",
    ")  # API request - starts the query\n",
    "\n",
    "localidades_gr= query_job.to_dataframe()\n",
    "localidades_gr['geometry']= gpd.GeoSeries.from_wkt(localidades_gr['geometry'])\n",
    "localidades_gr = gpd.GeoDataFrame(localidades_gr, geometry='geometry', crs= localidades.crs)"
   ]
  },
  {
   "cell_type": "markdown",
   "id": "9a088039-6dfc-41e9-b4c5-3f4410437174",
   "metadata": {
    "tags": []
   },
   "source": [
    "## 4. Proceso de datos"
   ]
  },
  {
   "cell_type": "markdown",
   "id": "4e0bc475-b03c-4dca-ab26-6c03822ae9dc",
   "metadata": {
    "jp-MarkdownHeadingCollapsed": true,
    "tags": []
   },
   "source": [
    "### 4.1 Union bases credibanco"
   ]
  },
  {
   "cell_type": "code",
   "execution_count": 14,
   "id": "715e7008-7395-4102-be7b-f1392731f2a9",
   "metadata": {},
   "outputs": [],
   "source": [
    "final = pd.concat([credibanco_1,credibanco_2], axis=1)\n",
    "final['ventas']=final['ventas'].astype(float)"
   ]
  },
  {
   "cell_type": "code",
   "execution_count": 15,
   "id": "b2d4de36-73af-4898-ba00-355bb86d87e4",
   "metadata": {},
   "outputs": [
    {
     "name": "stdout",
     "output_type": "stream",
     "text": [
      "<class 'pandas.core.frame.DataFrame'>\n",
      "RangeIndex: 44682311 entries, 0 to 44682310\n",
      "Data columns (total 5 columns):\n",
      " #   Column              Dtype              \n",
      "---  ------              -----              \n",
      " 0   fecha_autorizacion  datetime64[ns, UTC]\n",
      " 1   id_mcc              object             \n",
      " 2   id_lugar            object             \n",
      " 3   ventas              float64            \n",
      " 4   coordinates         object             \n",
      "dtypes: datetime64[ns, UTC](1), float64(1), object(3)\n",
      "memory usage: 1.7+ GB\n"
     ]
    }
   ],
   "source": [
    "final.info()"
   ]
  },
  {
   "cell_type": "markdown",
   "id": "092811a3-591a-4592-aaa8-a8ddd9357923",
   "metadata": {
    "jp-MarkdownHeadingCollapsed": true,
    "tags": []
   },
   "source": [
    "### 4.2 Bases de credibanco en formato geografico"
   ]
  },
  {
   "cell_type": "code",
   "execution_count": 16,
   "id": "a4b1e795-3dbd-4194-b9d5-567c3faf10d8",
   "metadata": {
    "tags": []
   },
   "outputs": [],
   "source": [
    "final['coordinates'] = gpd.GeoSeries.from_wkt(final['coordinates'])\n",
    "final = gpd.GeoDataFrame(final , geometry='coordinates',crs='epsg:4326')"
   ]
  },
  {
   "cell_type": "code",
   "execution_count": 17,
   "id": "bc00c315-953f-4c40-8720-82b2a65ac11f",
   "metadata": {},
   "outputs": [],
   "source": [
    "# final.info()"
   ]
  },
  {
   "cell_type": "code",
   "execution_count": 18,
   "id": "db60e8d6-32fb-4732-abf0-b0a4540288d5",
   "metadata": {},
   "outputs": [],
   "source": [
    "# localidades.info()"
   ]
  },
  {
   "cell_type": "markdown",
   "id": "37bd8c40-644f-4aec-b376-e325b726a904",
   "metadata": {
    "jp-MarkdownHeadingCollapsed": true,
    "tags": []
   },
   "source": [
    "### 4.3 Base credibanco con mismo crs que localidades"
   ]
  },
  {
   "cell_type": "code",
   "execution_count": 19,
   "id": "8bc741fd-5c3d-4788-951a-a411c9d08a99",
   "metadata": {},
   "outputs": [],
   "source": [
    "final = final.to_crs(localidades.crs)"
   ]
  },
  {
   "cell_type": "code",
   "execution_count": 20,
   "id": "30f7bdaf-8f70-4405-9e8b-74c63028b7ad",
   "metadata": {},
   "outputs": [],
   "source": [
    "# final.crs"
   ]
  },
  {
   "cell_type": "code",
   "execution_count": 21,
   "id": "f4d59f5a-7172-45b0-87dd-6746060cafc8",
   "metadata": {},
   "outputs": [],
   "source": [
    "# localidades.crs"
   ]
  },
  {
   "cell_type": "markdown",
   "id": "be89dad0-fe59-462c-852d-d3f5dadfd819",
   "metadata": {
    "jp-MarkdownHeadingCollapsed": true,
    "tags": []
   },
   "source": [
    "### 4.4 Variables de año y mes"
   ]
  },
  {
   "cell_type": "code",
   "execution_count": 22,
   "id": "69c7b38b-52a1-4cd8-a11a-6b478e406aca",
   "metadata": {},
   "outputs": [],
   "source": [
    "final['mes']= pd.DatetimeIndex(final['fecha_autorizacion']).month\n",
    "final['year']= pd.DatetimeIndex(final['fecha_autorizacion']).year"
   ]
  },
  {
   "cell_type": "markdown",
   "id": "07ffb857-0e2d-49eb-b1a4-d84c006a9459",
   "metadata": {
    "tags": []
   },
   "source": [
    "## 5. Union espacial credibanco y su respectivas variables geograficas"
   ]
  },
  {
   "cell_type": "code",
   "execution_count": 23,
   "id": "2859877d-8c61-4c79-9e35-8a7f4da1d6bb",
   "metadata": {
    "collapsed": true,
    "jupyter": {
     "outputs_hidden": true
    },
    "tags": []
   },
   "outputs": [
    {
     "name": "stderr",
     "output_type": "stream",
     "text": [
      "/opt/conda/lib/python3.7/site-packages/geopandas/array.py:348: UserWarning: Geometry is in a geographic CRS. Results from 'sjoin_nearest' are likely incorrect. Use 'GeoSeries.to_crs()' to re-project geometries to a projected CRS before this operation.\n",
      "\n",
      "  stacklevel=stacklevel,\n",
      "/opt/conda/lib/python3.7/site-packages/geopandas/array.py:348: UserWarning: Geometry is in a geographic CRS. Results from 'sjoin_nearest' are likely incorrect. Use 'GeoSeries.to_crs()' to re-project geometries to a projected CRS before this operation.\n",
      "\n",
      "  stacklevel=stacklevel,\n",
      "/opt/conda/lib/python3.7/site-packages/geopandas/array.py:348: UserWarning: Geometry is in a geographic CRS. Results from 'sjoin_nearest' are likely incorrect. Use 'GeoSeries.to_crs()' to re-project geometries to a projected CRS before this operation.\n",
      "\n",
      "  stacklevel=stacklevel,\n",
      "/opt/conda/lib/python3.7/site-packages/geopandas/array.py:348: UserWarning: Geometry is in a geographic CRS. Results from 'sjoin_nearest' are likely incorrect. Use 'GeoSeries.to_crs()' to re-project geometries to a projected CRS before this operation.\n",
      "\n",
      "  stacklevel=stacklevel,\n",
      "/opt/conda/lib/python3.7/site-packages/geopandas/array.py:348: UserWarning: Geometry is in a geographic CRS. Results from 'sjoin_nearest' are likely incorrect. Use 'GeoSeries.to_crs()' to re-project geometries to a projected CRS before this operation.\n",
      "\n",
      "  stacklevel=stacklevel,\n",
      "/opt/conda/lib/python3.7/site-packages/geopandas/array.py:348: UserWarning: Geometry is in a geographic CRS. Results from 'sjoin_nearest' are likely incorrect. Use 'GeoSeries.to_crs()' to re-project geometries to a projected CRS before this operation.\n",
      "\n",
      "  stacklevel=stacklevel,\n",
      "/opt/conda/lib/python3.7/site-packages/geopandas/array.py:348: UserWarning: Geometry is in a geographic CRS. Results from 'sjoin_nearest' are likely incorrect. Use 'GeoSeries.to_crs()' to re-project geometries to a projected CRS before this operation.\n",
      "\n",
      "  stacklevel=stacklevel,\n",
      "/opt/conda/lib/python3.7/site-packages/geopandas/array.py:348: UserWarning: Geometry is in a geographic CRS. Results from 'sjoin_nearest' are likely incorrect. Use 'GeoSeries.to_crs()' to re-project geometries to a projected CRS before this operation.\n",
      "\n",
      "  stacklevel=stacklevel,\n",
      "/opt/conda/lib/python3.7/site-packages/geopandas/array.py:348: UserWarning: Geometry is in a geographic CRS. Results from 'sjoin_nearest' are likely incorrect. Use 'GeoSeries.to_crs()' to re-project geometries to a projected CRS before this operation.\n",
      "\n",
      "  stacklevel=stacklevel,\n",
      "/opt/conda/lib/python3.7/site-packages/geopandas/array.py:348: UserWarning: Geometry is in a geographic CRS. Results from 'sjoin_nearest' are likely incorrect. Use 'GeoSeries.to_crs()' to re-project geometries to a projected CRS before this operation.\n",
      "\n",
      "  stacklevel=stacklevel,\n",
      "/opt/conda/lib/python3.7/site-packages/geopandas/array.py:348: UserWarning: Geometry is in a geographic CRS. Results from 'sjoin_nearest' are likely incorrect. Use 'GeoSeries.to_crs()' to re-project geometries to a projected CRS before this operation.\n",
      "\n",
      "  stacklevel=stacklevel,\n",
      "/opt/conda/lib/python3.7/site-packages/geopandas/array.py:348: UserWarning: Geometry is in a geographic CRS. Results from 'sjoin_nearest' are likely incorrect. Use 'GeoSeries.to_crs()' to re-project geometries to a projected CRS before this operation.\n",
      "\n",
      "  stacklevel=stacklevel,\n",
      "/opt/conda/lib/python3.7/site-packages/geopandas/array.py:348: UserWarning: Geometry is in a geographic CRS. Results from 'sjoin_nearest' are likely incorrect. Use 'GeoSeries.to_crs()' to re-project geometries to a projected CRS before this operation.\n",
      "\n",
      "  stacklevel=stacklevel,\n",
      "/opt/conda/lib/python3.7/site-packages/geopandas/array.py:348: UserWarning: Geometry is in a geographic CRS. Results from 'sjoin_nearest' are likely incorrect. Use 'GeoSeries.to_crs()' to re-project geometries to a projected CRS before this operation.\n",
      "\n",
      "  stacklevel=stacklevel,\n",
      "/opt/conda/lib/python3.7/site-packages/geopandas/array.py:348: UserWarning: Geometry is in a geographic CRS. Results from 'sjoin_nearest' are likely incorrect. Use 'GeoSeries.to_crs()' to re-project geometries to a projected CRS before this operation.\n",
      "\n",
      "  stacklevel=stacklevel,\n",
      "/opt/conda/lib/python3.7/site-packages/geopandas/array.py:348: UserWarning: Geometry is in a geographic CRS. Results from 'sjoin_nearest' are likely incorrect. Use 'GeoSeries.to_crs()' to re-project geometries to a projected CRS before this operation.\n",
      "\n",
      "  stacklevel=stacklevel,\n"
     ]
    },
    {
     "name": "stdout",
     "output_type": "stream",
     "text": [
      "<class 'geopandas.geodataframe.GeoDataFrame'>\n",
      "Int64Index: 44682311 entries, 0 to 44682310\n",
      "Data columns (total 14 columns):\n",
      " #   Column              Dtype              \n",
      "---  ------              -----              \n",
      " 0   fecha_autorizacion  datetime64[ns, UTC]\n",
      " 1   id_mcc              object             \n",
      " 2   id_lugar            object             \n",
      " 3   ventas              float64            \n",
      " 4   coordinates         geometry           \n",
      " 5   mes                 int64              \n",
      " 6   year                int64              \n",
      " 7   index_right         float64            \n",
      " 8   ID_Localidad        float64            \n",
      " 9   ID_UPZ              float64            \n",
      " 10  ID_Barrio           object             \n",
      " 11  ID_estrato          object             \n",
      " 12  Nombre_Loc          object             \n",
      " 13  Nombre_UPZ          object             \n",
      "dtypes: datetime64[ns, UTC](1), float64(4), geometry(1), int64(2), object(6)\n",
      "memory usage: 5.0+ GB\n"
     ]
    }
   ],
   "source": [
    "if __name__ == '__main__':\n",
    "    \n",
    "    final= parallelize()\n",
    "    final.info()"
   ]
  },
  {
   "cell_type": "code",
   "execution_count": 24,
   "id": "6cc22ce6-a804-4d5e-b0ef-4b6ff53caaef",
   "metadata": {
    "tags": []
   },
   "outputs": [
    {
     "name": "stdout",
     "output_type": "stream",
     "text": [
      "<class 'geopandas.geodataframe.GeoDataFrame'>\n",
      "Int64Index: 44682311 entries, 0 to 44682310\n",
      "Data columns (total 14 columns):\n",
      " #   Column              Dtype              \n",
      "---  ------              -----              \n",
      " 0   fecha_autorizacion  datetime64[ns, UTC]\n",
      " 1   id_mcc              object             \n",
      " 2   id_lugar            object             \n",
      " 3   ventas              float64            \n",
      " 4   coordinates         geometry           \n",
      " 5   mes                 int64              \n",
      " 6   year                int64              \n",
      " 7   index_right         float64            \n",
      " 8   ID_Localidad        float64            \n",
      " 9   ID_UPZ              float64            \n",
      " 10  ID_Barrio           object             \n",
      " 11  ID_estrato          object             \n",
      " 12  Nombre_Loc          object             \n",
      " 13  Nombre_UPZ          object             \n",
      "dtypes: datetime64[ns, UTC](1), float64(4), geometry(1), int64(2), object(6)\n",
      "memory usage: 5.0+ GB\n"
     ]
    }
   ],
   "source": [
    "# final = gpd.sjoin_nearest(final,localidades, how='left')\n",
    "final.info() "
   ]
  },
  {
   "cell_type": "markdown",
   "id": "90e2483c-574d-4feb-bc03-31bd66dcb0b3",
   "metadata": {
    "tags": []
   },
   "source": [
    "## 6 .Creacion de Variables colapsadas"
   ]
  },
  {
   "cell_type": "code",
   "execution_count": 25,
   "id": "7d40ed37-f7ff-44c3-83c3-2e66d9180983",
   "metadata": {},
   "outputs": [],
   "source": [
    "ventas = final.groupby(['year','mes','Nombre_Loc','ID_estrato','id_mcc','ID_Barrio'], dropna=False).agg(ventas_sum= ('ventas','sum'),\n",
    "                                                                                        ventas_count= ('ventas','count'),\n",
    "                                                                                        comercios= ('id_lugar','nunique')).reset_index()\n",
    "# numero = final.groupby(['mes','Nombre_Loc','Nombre_UPZ','ID_estrato'], dropna=False).count().reset_index()[['ventas']]\n",
    "# promedio = final.groupby(['mes','Nombre_Loc','Nombre_UPZ','ID_estrato'], dropna=False).mean().reset_index()[['ventas']]"
   ]
  },
  {
   "cell_type": "code",
   "execution_count": 26,
   "id": "be7f54ae-88b4-4ee2-81aa-fdf88574ad18",
   "metadata": {},
   "outputs": [],
   "source": [
    "# ventas['day']=1\n",
    "# ventas['month']=ventas['mes']\n",
    "# pd.to_datetime(ventas[['year','month','day']])"
   ]
  },
  {
   "cell_type": "markdown",
   "id": "7028b9c5-b509-4ded-9674-517a293210b5",
   "metadata": {
    "tags": []
   },
   "source": [
    "## 7. Bases de mapas"
   ]
  },
  {
   "cell_type": "code",
   "execution_count": 27,
   "id": "2a8b570a-5fbb-46aa-a509-5454201fbe03",
   "metadata": {},
   "outputs": [
    {
     "name": "stdout",
     "output_type": "stream",
     "text": [
      "<class 'geopandas.geodataframe.GeoDataFrame'>\n",
      "Int64Index: 6494 entries, 0 to 6493\n",
      "Data columns (total 11 columns):\n",
      " #   Column        Non-Null Count  Dtype   \n",
      "---  ------        --------------  -----   \n",
      " 0   year          6494 non-null   int64   \n",
      " 1   mes           6494 non-null   int64   \n",
      " 2   Nombre_Loc    6488 non-null   object  \n",
      " 3   ID_Barrio     6488 non-null   object  \n",
      " 4   Nombre_UPZ    6488 non-null   object  \n",
      " 5   ID_estrato    6488 non-null   object  \n",
      " 6   ventas_sum    6494 non-null   float64 \n",
      " 7   ventas_count  6494 non-null   float64 \n",
      " 8   ID_Localidad  6488 non-null   float64 \n",
      " 9   ID_UPZ        6488 non-null   float64 \n",
      " 10  geometry      6488 non-null   geometry\n",
      "dtypes: float64(4), geometry(1), int64(2), object(4)\n",
      "memory usage: 608.8+ KB\n"
     ]
    }
   ],
   "source": [
    "mapa = final.groupby(['year','mes','Nombre_Loc','ID_Barrio','Nombre_UPZ','ID_estrato'], dropna=False).agg(ventas_sum= ('ventas','sum'),\n",
    "                                                                                    ventas_count= ('ventas','sum')).reset_index()\n",
    "mapa = pd.merge(mapa,localidades, on = ['Nombre_Loc','ID_Barrio','Nombre_UPZ','ID_estrato'], how='left', validate='many_to_one')\n",
    "mapa = gpd.GeoDataFrame(mapa,geometry='geometry', crs=localidades.crs)\n",
    "mapa.info()"
   ]
  },
  {
   "cell_type": "code",
   "execution_count": 28,
   "id": "8c2769de-919d-4c05-adc7-92ccaef5a428",
   "metadata": {
    "tags": []
   },
   "outputs": [
    {
     "data": {
      "text/html": [
       "<div>\n",
       "<style scoped>\n",
       "    .dataframe tbody tr th:only-of-type {\n",
       "        vertical-align: middle;\n",
       "    }\n",
       "\n",
       "    .dataframe tbody tr th {\n",
       "        vertical-align: top;\n",
       "    }\n",
       "\n",
       "    .dataframe thead th {\n",
       "        text-align: right;\n",
       "    }\n",
       "</style>\n",
       "<table border=\"1\" class=\"dataframe\">\n",
       "  <thead>\n",
       "    <tr style=\"text-align: right;\">\n",
       "      <th></th>\n",
       "      <th>year</th>\n",
       "      <th>mes</th>\n",
       "      <th>Nombre_Loc</th>\n",
       "      <th>ID_Barrio</th>\n",
       "      <th>Nombre_UPZ</th>\n",
       "      <th>ID_estrato</th>\n",
       "      <th>ventas_sum</th>\n",
       "      <th>ventas_count</th>\n",
       "      <th>ID_Localidad</th>\n",
       "      <th>ID_UPZ</th>\n",
       "      <th>geometry</th>\n",
       "    </tr>\n",
       "  </thead>\n",
       "  <tbody>\n",
       "    <tr>\n",
       "      <th>0</th>\n",
       "      <td>2021</td>\n",
       "      <td>5</td>\n",
       "      <td>ANTONIO NARIÃ‘O</td>\n",
       "      <td>001201</td>\n",
       "      <td>CIUDAD JARDIN</td>\n",
       "      <td>Estrato 3</td>\n",
       "      <td>8.082213e+06</td>\n",
       "      <td>8.082213e+06</td>\n",
       "      <td>15.0</td>\n",
       "      <td>35.0</td>\n",
       "      <td>POLYGON ((-74.09046 4.58774, -74.08989 4.58845...</td>\n",
       "    </tr>\n",
       "    <tr>\n",
       "      <th>1</th>\n",
       "      <td>2021</td>\n",
       "      <td>5</td>\n",
       "      <td>ANTONIO NARIÃ‘O</td>\n",
       "      <td>001202</td>\n",
       "      <td>CIUDAD JARDIN</td>\n",
       "      <td>Estrato 3</td>\n",
       "      <td>1.993904e+08</td>\n",
       "      <td>1.993904e+08</td>\n",
       "      <td>15.0</td>\n",
       "      <td>35.0</td>\n",
       "      <td>POLYGON ((-74.08868 4.58499, -74.08880 4.58501...</td>\n",
       "    </tr>\n",
       "    <tr>\n",
       "      <th>2</th>\n",
       "      <td>2021</td>\n",
       "      <td>5</td>\n",
       "      <td>ANTONIO NARIÃ‘O</td>\n",
       "      <td>001204</td>\n",
       "      <td>CIUDAD JARDIN</td>\n",
       "      <td>Estrato 3</td>\n",
       "      <td>6.928177e+08</td>\n",
       "      <td>6.928177e+08</td>\n",
       "      <td>15.0</td>\n",
       "      <td>35.0</td>\n",
       "      <td>POLYGON ((-74.09460 4.57580, -74.09456 4.57585...</td>\n",
       "    </tr>\n",
       "    <tr>\n",
       "      <th>3</th>\n",
       "      <td>2021</td>\n",
       "      <td>5</td>\n",
       "      <td>ANTONIO NARIÃ‘O</td>\n",
       "      <td>001208</td>\n",
       "      <td>CIUDAD JARDIN</td>\n",
       "      <td>Estrato 2</td>\n",
       "      <td>2.078110e+08</td>\n",
       "      <td>2.078110e+08</td>\n",
       "      <td>15.0</td>\n",
       "      <td>35.0</td>\n",
       "      <td>POLYGON ((-74.08491 4.58926, -74.08514 4.58941...</td>\n",
       "    </tr>\n",
       "    <tr>\n",
       "      <th>4</th>\n",
       "      <td>2021</td>\n",
       "      <td>5</td>\n",
       "      <td>ANTONIO NARIÃ‘O</td>\n",
       "      <td>001208</td>\n",
       "      <td>CIUDAD JARDIN</td>\n",
       "      <td>Estrato 3</td>\n",
       "      <td>6.270000e+06</td>\n",
       "      <td>6.270000e+06</td>\n",
       "      <td>15.0</td>\n",
       "      <td>35.0</td>\n",
       "      <td>MULTIPOLYGON (((-74.08514 4.58891, -74.08565 4...</td>\n",
       "    </tr>\n",
       "    <tr>\n",
       "      <th>...</th>\n",
       "      <td>...</td>\n",
       "      <td>...</td>\n",
       "      <td>...</td>\n",
       "      <td>...</td>\n",
       "      <td>...</td>\n",
       "      <td>...</td>\n",
       "      <td>...</td>\n",
       "      <td>...</td>\n",
       "      <td>...</td>\n",
       "      <td>...</td>\n",
       "      <td>...</td>\n",
       "    </tr>\n",
       "    <tr>\n",
       "      <th>6489</th>\n",
       "      <td>2021</td>\n",
       "      <td>10</td>\n",
       "      <td>USME</td>\n",
       "      <td>002615</td>\n",
       "      <td>COMUNEROS</td>\n",
       "      <td>Estrato 1</td>\n",
       "      <td>9.447200e+05</td>\n",
       "      <td>9.447200e+05</td>\n",
       "      <td>5.0</td>\n",
       "      <td>58.0</td>\n",
       "      <td>POLYGON ((-74.11122 4.49548, -74.11128 4.49568...</td>\n",
       "    </tr>\n",
       "    <tr>\n",
       "      <th>6490</th>\n",
       "      <td>2021</td>\n",
       "      <td>10</td>\n",
       "      <td>USME</td>\n",
       "      <td>002616</td>\n",
       "      <td>ALFONSO LOPEZ</td>\n",
       "      <td>Estrato 1</td>\n",
       "      <td>7.686944e+06</td>\n",
       "      <td>7.686944e+06</td>\n",
       "      <td>5.0</td>\n",
       "      <td>59.0</td>\n",
       "      <td>POLYGON ((-74.10038 4.49647, -74.10069 4.49652...</td>\n",
       "    </tr>\n",
       "    <tr>\n",
       "      <th>6491</th>\n",
       "      <td>2021</td>\n",
       "      <td>10</td>\n",
       "      <td>USME</td>\n",
       "      <td>002627</td>\n",
       "      <td>ALFONSO LOPEZ</td>\n",
       "      <td>Estrato 1</td>\n",
       "      <td>3.130098e+07</td>\n",
       "      <td>3.130098e+07</td>\n",
       "      <td>5.0</td>\n",
       "      <td>59.0</td>\n",
       "      <td>POLYGON ((-74.10242 4.50348, -74.10249 4.50346...</td>\n",
       "    </tr>\n",
       "    <tr>\n",
       "      <th>6492</th>\n",
       "      <td>2021</td>\n",
       "      <td>10</td>\n",
       "      <td>USME</td>\n",
       "      <td>102602</td>\n",
       "      <td>CIUDAD USME</td>\n",
       "      <td>Rural</td>\n",
       "      <td>1.000000e+02</td>\n",
       "      <td>1.000000e+02</td>\n",
       "      <td>5.0</td>\n",
       "      <td>61.0</td>\n",
       "      <td>POLYGON ((-74.12164 4.47705, -74.12172 4.47711...</td>\n",
       "    </tr>\n",
       "    <tr>\n",
       "      <th>6493</th>\n",
       "      <td>2021</td>\n",
       "      <td>10</td>\n",
       "      <td>NaN</td>\n",
       "      <td>NaN</td>\n",
       "      <td>NaN</td>\n",
       "      <td>NaN</td>\n",
       "      <td>9.539428e+10</td>\n",
       "      <td>9.539428e+10</td>\n",
       "      <td>NaN</td>\n",
       "      <td>NaN</td>\n",
       "      <td>None</td>\n",
       "    </tr>\n",
       "  </tbody>\n",
       "</table>\n",
       "<p>6494 rows × 11 columns</p>\n",
       "</div>"
      ],
      "text/plain": [
       "      year  mes       Nombre_Loc ID_Barrio     Nombre_UPZ ID_estrato  \\\n",
       "0     2021    5  ANTONIO NARIÃ‘O    001201  CIUDAD JARDIN  Estrato 3   \n",
       "1     2021    5  ANTONIO NARIÃ‘O    001202  CIUDAD JARDIN  Estrato 3   \n",
       "2     2021    5  ANTONIO NARIÃ‘O    001204  CIUDAD JARDIN  Estrato 3   \n",
       "3     2021    5  ANTONIO NARIÃ‘O    001208  CIUDAD JARDIN  Estrato 2   \n",
       "4     2021    5  ANTONIO NARIÃ‘O    001208  CIUDAD JARDIN  Estrato 3   \n",
       "...    ...  ...              ...       ...            ...        ...   \n",
       "6489  2021   10             USME    002615      COMUNEROS  Estrato 1   \n",
       "6490  2021   10             USME    002616  ALFONSO LOPEZ  Estrato 1   \n",
       "6491  2021   10             USME    002627  ALFONSO LOPEZ  Estrato 1   \n",
       "6492  2021   10             USME    102602    CIUDAD USME      Rural   \n",
       "6493  2021   10              NaN       NaN            NaN        NaN   \n",
       "\n",
       "        ventas_sum  ventas_count  ID_Localidad  ID_UPZ  \\\n",
       "0     8.082213e+06  8.082213e+06          15.0    35.0   \n",
       "1     1.993904e+08  1.993904e+08          15.0    35.0   \n",
       "2     6.928177e+08  6.928177e+08          15.0    35.0   \n",
       "3     2.078110e+08  2.078110e+08          15.0    35.0   \n",
       "4     6.270000e+06  6.270000e+06          15.0    35.0   \n",
       "...            ...           ...           ...     ...   \n",
       "6489  9.447200e+05  9.447200e+05           5.0    58.0   \n",
       "6490  7.686944e+06  7.686944e+06           5.0    59.0   \n",
       "6491  3.130098e+07  3.130098e+07           5.0    59.0   \n",
       "6492  1.000000e+02  1.000000e+02           5.0    61.0   \n",
       "6493  9.539428e+10  9.539428e+10           NaN     NaN   \n",
       "\n",
       "                                               geometry  \n",
       "0     POLYGON ((-74.09046 4.58774, -74.08989 4.58845...  \n",
       "1     POLYGON ((-74.08868 4.58499, -74.08880 4.58501...  \n",
       "2     POLYGON ((-74.09460 4.57580, -74.09456 4.57585...  \n",
       "3     POLYGON ((-74.08491 4.58926, -74.08514 4.58941...  \n",
       "4     MULTIPOLYGON (((-74.08514 4.58891, -74.08565 4...  \n",
       "...                                                 ...  \n",
       "6489  POLYGON ((-74.11122 4.49548, -74.11128 4.49568...  \n",
       "6490  POLYGON ((-74.10038 4.49647, -74.10069 4.49652...  \n",
       "6491  POLYGON ((-74.10242 4.50348, -74.10249 4.50346...  \n",
       "6492  POLYGON ((-74.12164 4.47705, -74.12172 4.47711...  \n",
       "6493                                               None  \n",
       "\n",
       "[6494 rows x 11 columns]"
      ]
     },
     "execution_count": 28,
     "metadata": {},
     "output_type": "execute_result"
    }
   ],
   "source": [
    "mapa"
   ]
  },
  {
   "cell_type": "code",
   "execution_count": 29,
   "id": "c903dda9-c34b-49a5-b519-5994f800597d",
   "metadata": {
    "tags": []
   },
   "outputs": [
    {
     "name": "stderr",
     "output_type": "stream",
     "text": [
      "/opt/conda/lib/python3.7/site-packages/ipykernel_launcher.py:8: UserWarning: Geometry is in a geographic CRS. Results from 'centroid' are likely incorrect. Use 'GeoSeries.to_crs()' to re-project geometries to a projected CRS before this operation.\n",
      "\n",
      "  \n"
     ]
    }
   ],
   "source": [
    "import sys\n",
    "mapa_agr= mapa.dissolve(by=['Nombre_UPZ','year','mes'], aggfunc='sum')\n",
    "mapa_agr=mapa_agr.reset_index()\n",
    "# mapa_agr= mapa_agr.explode(index_parts=False)\n",
    "# from shapely.ops import orient # version >=1.7a2\n",
    "# mapa_agr['geometry'] = mapa_agr['geometry'].apply(orient, args=(-1,))\n",
    "from shapely import wkt\n",
    "mapa_agr['geometry'] = mapa_agr['geometry'].centroid\n",
    "# mapa_agr = pd.DataFrame(mapa_agr)\n",
    "\n",
    "# mapa_agr.to_file(\"mapa_agr.geojson\", driver='GeoJSON')\n",
    "# mapa_agr =gpd.read_file('mapa_agr.geojson', encoding='utf-8')\n",
    "# mapa_agr= mapa_agr.explode()\n",
    "# mapa_agr=mapa_agr.reset_index(drop=True)\n",
    "# # mapa_agr['geometry']=mapa_agr['geometry'].to_wkt()\n",
    "# mapa_agr = gpd.GeoDataFrame(mapa_agr , crs = mapa.crs, geometry='geometry')\n"
   ]
  },
  {
   "cell_type": "code",
   "execution_count": 30,
   "id": "f23c2b1f-48cd-4fe6-95c9-7782b890fd0f",
   "metadata": {
    "tags": []
   },
   "outputs": [
    {
     "data": {
      "text/html": [
       "<div>\n",
       "<style scoped>\n",
       "    .dataframe tbody tr th:only-of-type {\n",
       "        vertical-align: middle;\n",
       "    }\n",
       "\n",
       "    .dataframe tbody tr th {\n",
       "        vertical-align: top;\n",
       "    }\n",
       "\n",
       "    .dataframe thead th {\n",
       "        text-align: right;\n",
       "    }\n",
       "</style>\n",
       "<table border=\"1\" class=\"dataframe\">\n",
       "  <thead>\n",
       "    <tr style=\"text-align: right;\">\n",
       "      <th></th>\n",
       "      <th>OBJECTID</th>\n",
       "      <th>ID_Localidad</th>\n",
       "      <th>ID_UPZ</th>\n",
       "      <th>Nombre_Localidad</th>\n",
       "      <th>Nombre_UPZ</th>\n",
       "      <th>Shape_Length</th>\n",
       "      <th>Shape_Area</th>\n",
       "      <th>geometry</th>\n",
       "    </tr>\n",
       "  </thead>\n",
       "  <tbody>\n",
       "    <tr>\n",
       "      <th>0</th>\n",
       "      <td>6</td>\n",
       "      <td>1</td>\n",
       "      <td>11</td>\n",
       "      <td>USAQUEN</td>\n",
       "      <td>SAN CRISTOBAL NORTE</td>\n",
       "      <td>10882.846739</td>\n",
       "      <td>2.752775e+06</td>\n",
       "      <td>POLYGON ((-74.03211 4.73114, -74.03192 4.73104...</td>\n",
       "    </tr>\n",
       "    <tr>\n",
       "      <th>1</th>\n",
       "      <td>7</td>\n",
       "      <td>1</td>\n",
       "      <td>12</td>\n",
       "      <td>USAQUEN</td>\n",
       "      <td>TOBERIN</td>\n",
       "      <td>7146.943914</td>\n",
       "      <td>2.906631e+06</td>\n",
       "      <td>POLYGON ((-74.04869 4.73778, -74.04712 4.73750...</td>\n",
       "    </tr>\n",
       "    <tr>\n",
       "      <th>2</th>\n",
       "      <td>8</td>\n",
       "      <td>1</td>\n",
       "      <td>10</td>\n",
       "      <td>USAQUEN</td>\n",
       "      <td>LA URIBE</td>\n",
       "      <td>11178.433245</td>\n",
       "      <td>3.452643e+06</td>\n",
       "      <td>POLYGON ((-74.04668 4.75134, -74.04526 4.75107...</td>\n",
       "    </tr>\n",
       "    <tr>\n",
       "      <th>3</th>\n",
       "      <td>47</td>\n",
       "      <td>1</td>\n",
       "      <td>15</td>\n",
       "      <td>USAQUEN</td>\n",
       "      <td>COUNTRY CLUB</td>\n",
       "      <td>7043.604829</td>\n",
       "      <td>2.856068e+06</td>\n",
       "      <td>POLYGON ((-74.03262 4.71274, -74.03262 4.71275...</td>\n",
       "    </tr>\n",
       "    <tr>\n",
       "      <th>4</th>\n",
       "      <td>48</td>\n",
       "      <td>1</td>\n",
       "      <td>16</td>\n",
       "      <td>USAQUEN</td>\n",
       "      <td>SANTA BARBARA</td>\n",
       "      <td>8571.615469</td>\n",
       "      <td>4.586983e+06</td>\n",
       "      <td>POLYGON ((-74.03288 4.70341, -74.03594 4.70418...</td>\n",
       "    </tr>\n",
       "    <tr>\n",
       "      <th>...</th>\n",
       "      <td>...</td>\n",
       "      <td>...</td>\n",
       "      <td>...</td>\n",
       "      <td>...</td>\n",
       "      <td>...</td>\n",
       "      <td>...</td>\n",
       "      <td>...</td>\n",
       "      <td>...</td>\n",
       "    </tr>\n",
       "    <tr>\n",
       "      <th>109</th>\n",
       "      <td>81</td>\n",
       "      <td>19</td>\n",
       "      <td>70</td>\n",
       "      <td>CIUDAD BOLIVAR</td>\n",
       "      <td>JERUSALEM</td>\n",
       "      <td>13527.648202</td>\n",
       "      <td>5.374763e+06</td>\n",
       "      <td>POLYGON ((-74.17852 4.57017, -74.17847 4.56979...</td>\n",
       "    </tr>\n",
       "    <tr>\n",
       "      <th>110</th>\n",
       "      <td>95</td>\n",
       "      <td>19</td>\n",
       "      <td>67</td>\n",
       "      <td>CIUDAD BOLIVAR</td>\n",
       "      <td>LUCERO</td>\n",
       "      <td>13507.416167</td>\n",
       "      <td>5.863865e+06</td>\n",
       "      <td>POLYGON ((-74.13413 4.55646, -74.13417 4.55645...</td>\n",
       "    </tr>\n",
       "    <tr>\n",
       "      <th>111</th>\n",
       "      <td>96</td>\n",
       "      <td>19</td>\n",
       "      <td>63</td>\n",
       "      <td>CIUDAD BOLIVAR</td>\n",
       "      <td>EL MOCHUELO</td>\n",
       "      <td>10914.649249</td>\n",
       "      <td>3.167350e+06</td>\n",
       "      <td>POLYGON ((-74.12609 4.54482, -74.12609 4.54482...</td>\n",
       "    </tr>\n",
       "    <tr>\n",
       "      <th>112</th>\n",
       "      <td>101</td>\n",
       "      <td>19</td>\n",
       "      <td>65</td>\n",
       "      <td>CIUDAD BOLIVAR</td>\n",
       "      <td>ARBORIZADORA</td>\n",
       "      <td>15669.900833</td>\n",
       "      <td>3.062642e+06</td>\n",
       "      <td>POLYGON ((-74.16197 4.59562, -74.16192 4.59521...</td>\n",
       "    </tr>\n",
       "    <tr>\n",
       "      <th>113</th>\n",
       "      <td>102</td>\n",
       "      <td>19</td>\n",
       "      <td>66</td>\n",
       "      <td>CIUDAD BOLIVAR</td>\n",
       "      <td>SAN FRANCISCO</td>\n",
       "      <td>8293.100008</td>\n",
       "      <td>1.786034e+06</td>\n",
       "      <td>MULTIPOLYGON (((-74.15431 4.55913, -74.15417 4...</td>\n",
       "    </tr>\n",
       "  </tbody>\n",
       "</table>\n",
       "<p>114 rows × 8 columns</p>\n",
       "</div>"
      ],
      "text/plain": [
       "     OBJECTID  ID_Localidad  ID_UPZ Nombre_Localidad           Nombre_UPZ  \\\n",
       "0           6             1      11          USAQUEN  SAN CRISTOBAL NORTE   \n",
       "1           7             1      12          USAQUEN              TOBERIN   \n",
       "2           8             1      10          USAQUEN             LA URIBE   \n",
       "3          47             1      15          USAQUEN         COUNTRY CLUB   \n",
       "4          48             1      16          USAQUEN        SANTA BARBARA   \n",
       "..        ...           ...     ...              ...                  ...   \n",
       "109        81            19      70   CIUDAD BOLIVAR            JERUSALEM   \n",
       "110        95            19      67   CIUDAD BOLIVAR               LUCERO   \n",
       "111        96            19      63   CIUDAD BOLIVAR          EL MOCHUELO   \n",
       "112       101            19      65   CIUDAD BOLIVAR         ARBORIZADORA   \n",
       "113       102            19      66   CIUDAD BOLIVAR        SAN FRANCISCO   \n",
       "\n",
       "     Shape_Length    Shape_Area  \\\n",
       "0    10882.846739  2.752775e+06   \n",
       "1     7146.943914  2.906631e+06   \n",
       "2    11178.433245  3.452643e+06   \n",
       "3     7043.604829  2.856068e+06   \n",
       "4     8571.615469  4.586983e+06   \n",
       "..            ...           ...   \n",
       "109  13527.648202  5.374763e+06   \n",
       "110  13507.416167  5.863865e+06   \n",
       "111  10914.649249  3.167350e+06   \n",
       "112  15669.900833  3.062642e+06   \n",
       "113   8293.100008  1.786034e+06   \n",
       "\n",
       "                                              geometry  \n",
       "0    POLYGON ((-74.03211 4.73114, -74.03192 4.73104...  \n",
       "1    POLYGON ((-74.04869 4.73778, -74.04712 4.73750...  \n",
       "2    POLYGON ((-74.04668 4.75134, -74.04526 4.75107...  \n",
       "3    POLYGON ((-74.03262 4.71274, -74.03262 4.71275...  \n",
       "4    POLYGON ((-74.03288 4.70341, -74.03594 4.70418...  \n",
       "..                                                 ...  \n",
       "109  POLYGON ((-74.17852 4.57017, -74.17847 4.56979...  \n",
       "110  POLYGON ((-74.13413 4.55646, -74.13417 4.55645...  \n",
       "111  POLYGON ((-74.12609 4.54482, -74.12609 4.54482...  \n",
       "112  POLYGON ((-74.16197 4.59562, -74.16192 4.59521...  \n",
       "113  MULTIPOLYGON (((-74.15431 4.55913, -74.15417 4...  \n",
       "\n",
       "[114 rows x 8 columns]"
      ]
     },
     "execution_count": 30,
     "metadata": {},
     "output_type": "execute_result"
    }
   ],
   "source": [
    "localidades_gr"
   ]
  },
  {
   "cell_type": "code",
   "execution_count": 31,
   "id": "4a2161fd-97cc-4f62-bfc7-e9beda96932c",
   "metadata": {},
   "outputs": [
    {
     "name": "stdout",
     "output_type": "stream",
     "text": [
      "<class 'geopandas.geodataframe.GeoDataFrame'>\n",
      "RangeIndex: 696 entries, 0 to 695\n",
      "Data columns (total 8 columns):\n",
      " #   Column        Non-Null Count  Dtype   \n",
      "---  ------        --------------  -----   \n",
      " 0   Nombre_UPZ    696 non-null    object  \n",
      " 1   year          696 non-null    int64   \n",
      " 2   mes           696 non-null    int64   \n",
      " 3   geometry      696 non-null    geometry\n",
      " 4   ventas_sum    696 non-null    float64 \n",
      " 5   ventas_count  696 non-null    float64 \n",
      " 6   ID_Localidad  696 non-null    float64 \n",
      " 7   ID_UPZ        696 non-null    float64 \n",
      "dtypes: float64(4), geometry(1), int64(2), object(1)\n",
      "memory usage: 43.6+ KB\n"
     ]
    }
   ],
   "source": [
    "mapa_agr.info()"
   ]
  },
  {
   "cell_type": "code",
   "execution_count": 32,
   "id": "552529f9-90a4-4502-aaa5-c59fdbde9633",
   "metadata": {
    "tags": []
   },
   "outputs": [
    {
     "data": {
      "text/plain": [
       "PARQUE ENTRENUBES             2\n",
       "LA FLORA                      2\n",
       "SAN CRISTOBAL NORTE           1\n",
       "SUBA                          1\n",
       "PARQUE SIMON BOLIVAR - CAN    1\n",
       "                             ..\n",
       "TINTAL SUR                    1\n",
       "BOSA OCCIDENTAL               1\n",
       "BOSA CENTRAL                  1\n",
       "TUNJUELITO                    1\n",
       "SAN FRANCISCO                 1\n",
       "Name: Nombre_UPZ, Length: 112, dtype: int64"
      ]
     },
     "execution_count": 32,
     "metadata": {},
     "output_type": "execute_result"
    }
   ],
   "source": [
    "localidades_gr['Nombre_UPZ'].value_counts()"
   ]
  },
  {
   "cell_type": "code",
   "execution_count": 33,
   "id": "80596a42-c5db-4c31-bb0c-7bca7db122a3",
   "metadata": {},
   "outputs": [],
   "source": [
    "mapa_agr.drop('geometry', axis=1, inplace=True)\n",
    "mapa_agr=pd.merge(mapa_agr,localidades_gr[['Nombre_UPZ','Nombre_Localidad','geometry']], on ='Nombre_UPZ', how='left', validate='many_to_many')\n",
    "mapa_agr=mapa_agr.dropna()\n"
   ]
  },
  {
   "cell_type": "code",
   "execution_count": 34,
   "id": "f6fef87e-606c-401e-a536-dc3b5c2cb8b6",
   "metadata": {},
   "outputs": [
    {
     "data": {
      "text/plain": [
       "<AxesSubplot:>"
      ]
     },
     "execution_count": 34,
     "metadata": {},
     "output_type": "execute_result"
    },
    {
     "data": {
      "image/png": "[encoded data removed]",
      "text/plain": [
       "<Figure size 432x288 with 1 Axes>"
      ]
     },
     "metadata": {
      "needs_background": "light"
     },
     "output_type": "display_data"
    }
   ],
   "source": [
    "mapa_agr.plot()"
   ]
  },
  {
   "cell_type": "code",
   "execution_count": 35,
   "id": "9380a666-9cf2-4016-92a3-27552a0969a8",
   "metadata": {},
   "outputs": [
    {
     "name": "stdout",
     "output_type": "stream",
     "text": [
      "<class 'geopandas.geodataframe.GeoDataFrame'>\n",
      "Int64Index: 672 entries, 0 to 701\n",
      "Data columns (total 9 columns):\n",
      " #   Column            Non-Null Count  Dtype   \n",
      "---  ------            --------------  -----   \n",
      " 0   Nombre_UPZ        672 non-null    object  \n",
      " 1   year              672 non-null    int64   \n",
      " 2   mes               672 non-null    int64   \n",
      " 3   ventas_sum        672 non-null    float64 \n",
      " 4   ventas_count      672 non-null    float64 \n",
      " 5   ID_Localidad      672 non-null    float64 \n",
      " 6   ID_UPZ            672 non-null    float64 \n",
      " 7   Nombre_Localidad  672 non-null    object  \n",
      " 8   geometry          672 non-null    geometry\n",
      "dtypes: float64(4), geometry(1), int64(2), object(2)\n",
      "memory usage: 52.5+ KB\n"
     ]
    }
   ],
   "source": [
    "mapa_agr.info()"
   ]
  },
  {
   "cell_type": "code",
   "execution_count": 36,
   "id": "3e4cbefb-bcb7-4ad9-8fb2-91810fc1bea3",
   "metadata": {},
   "outputs": [
    {
     "name": "stdout",
     "output_type": "stream",
     "text": [
      "<class 'geopandas.geodataframe.GeoDataFrame'>\n",
      "Int64Index: 672 entries, 0 to 701\n",
      "Data columns (total 9 columns):\n",
      " #   Column            Non-Null Count  Dtype   \n",
      "---  ------            --------------  -----   \n",
      " 0   Nombre_UPZ        672 non-null    object  \n",
      " 1   year              672 non-null    int64   \n",
      " 2   mes               672 non-null    int64   \n",
      " 3   ventas_sum        672 non-null    float64 \n",
      " 4   ventas_count      672 non-null    float64 \n",
      " 5   ID_Localidad      672 non-null    float64 \n",
      " 6   ID_UPZ            672 non-null    float64 \n",
      " 7   Nombre_Localidad  672 non-null    object  \n",
      " 8   geometry          672 non-null    geometry\n",
      "dtypes: float64(4), geometry(1), int64(2), object(2)\n",
      "memory usage: 52.5+ KB\n"
     ]
    }
   ],
   "source": [
    "mapa_agr.info()"
   ]
  },
  {
   "cell_type": "code",
   "execution_count": 37,
   "id": "250cc2c0-7e85-48e0-b60a-187ac7420336",
   "metadata": {},
   "outputs": [],
   "source": [
    "# mapa_agr=pd.DataFrame(mapa_agr)"
   ]
  },
  {
   "cell_type": "code",
   "execution_count": 38,
   "id": "210e8ee7-649d-409c-8357-478edc4b7a71",
   "metadata": {},
   "outputs": [],
   "source": [
    "# mapa_agr.to_file(\"mapa_agr.geojson\", driver='GeoJSON')\n",
    "# mapa_agr =gpd.read_file('mapa_agr.geojson', encoding='utf-8')"
   ]
  },
  {
   "cell_type": "code",
   "execution_count": 39,
   "id": "5124e983-3f3a-43f3-a59d-ad809ad32773",
   "metadata": {},
   "outputs": [],
   "source": [
    "ventas = ventas.fillna('NaN')\n",
    "# mapa['geometry'] = mapa['geometry'].fillna()\n",
    "# mapa = mapa.fillna('NaN')\n",
    "\n",
    "# mapa_agr['geometry'] = mapa_agr['geometry'].fillna()\n",
    "# mapa_agr = mapa_agr.fillna('NaN')"
   ]
  },
  {
   "cell_type": "code",
   "execution_count": 40,
   "id": "38eecc98-1376-4b87-bc03-2b081236795d",
   "metadata": {},
   "outputs": [
    {
     "name": "stdout",
     "output_type": "stream",
     "text": [
      "<class 'geopandas.geodataframe.GeoDataFrame'>\n",
      "Int64Index: 6494 entries, 0 to 6493\n",
      "Data columns (total 11 columns):\n",
      " #   Column        Non-Null Count  Dtype   \n",
      "---  ------        --------------  -----   \n",
      " 0   year          6494 non-null   int64   \n",
      " 1   mes           6494 non-null   int64   \n",
      " 2   Nombre_Loc    6488 non-null   object  \n",
      " 3   ID_Barrio     6488 non-null   object  \n",
      " 4   Nombre_UPZ    6488 non-null   object  \n",
      " 5   ID_estrato    6488 non-null   object  \n",
      " 6   ventas_sum    6494 non-null   float64 \n",
      " 7   ventas_count  6494 non-null   float64 \n",
      " 8   ID_Localidad  6488 non-null   float64 \n",
      " 9   ID_UPZ        6488 non-null   float64 \n",
      " 10  geometry      6488 non-null   geometry\n",
      "dtypes: float64(4), geometry(1), int64(2), object(4)\n",
      "memory usage: 608.8+ KB\n"
     ]
    }
   ],
   "source": [
    "mapa.info()"
   ]
  },
  {
   "cell_type": "code",
   "execution_count": 41,
   "id": "c05d5f3f-2e23-4357-b3a3-e9c4a25ed062",
   "metadata": {},
   "outputs": [
    {
     "name": "stdout",
     "output_type": "stream",
     "text": [
      "<class 'pandas.core.frame.DataFrame'>\n",
      "RangeIndex: 432097 entries, 0 to 432096\n",
      "Data columns (total 9 columns):\n",
      " #   Column        Non-Null Count   Dtype  \n",
      "---  ------        --------------   -----  \n",
      " 0   year          432097 non-null  int64  \n",
      " 1   mes           432097 non-null  int64  \n",
      " 2   Nombre_Loc    432097 non-null  object \n",
      " 3   ID_estrato    432097 non-null  object \n",
      " 4   id_mcc        432097 non-null  object \n",
      " 5   ID_Barrio     432097 non-null  object \n",
      " 6   ventas_sum    432097 non-null  float64\n",
      " 7   ventas_count  432097 non-null  int64  \n",
      " 8   comercios     432097 non-null  int64  \n",
      "dtypes: float64(1), int64(4), object(4)\n",
      "memory usage: 29.7+ MB\n"
     ]
    }
   ],
   "source": [
    "ventas.info()"
   ]
  },
  {
   "cell_type": "code",
   "execution_count": 43,
   "id": "a91803ee-aee1-4345-b3c5-6b742c7b7600",
   "metadata": {},
   "outputs": [
    {
     "name": "stdout",
     "output_type": "stream",
     "text": [
      "<class 'pandas.core.frame.DataFrame'>\n",
      "RangeIndex: 432097 entries, 0 to 432096\n",
      "Data columns (total 9 columns):\n",
      " #   Column        Non-Null Count   Dtype  \n",
      "---  ------        --------------   -----  \n",
      " 0   year          432097 non-null  int64  \n",
      " 1   mes           432097 non-null  int64  \n",
      " 2   Nombre_Loc    432097 non-null  object \n",
      " 3   ID_estrato    432097 non-null  object \n",
      " 4   id_mcc        432097 non-null  object \n",
      " 5   ID_Barrio     432097 non-null  object \n",
      " 6   ventas_sum    432097 non-null  float64\n",
      " 7   ventas_count  432097 non-null  int64  \n",
      " 8   comercios     432097 non-null  int64  \n",
      "dtypes: float64(1), int64(4), object(4)\n",
      "memory usage: 29.7+ MB\n"
     ]
    }
   ],
   "source": [
    "ventas.info()"
   ]
  },
  {
   "cell_type": "code",
   "execution_count": 52,
   "id": "5664ac1d-f57e-4c75-8278-1d7db83856d2",
   "metadata": {},
   "outputs": [
    {
     "data": {
      "text/html": [
       "<div>\n",
       "<style scoped>\n",
       "    .dataframe tbody tr th:only-of-type {\n",
       "        vertical-align: middle;\n",
       "    }\n",
       "\n",
       "    .dataframe tbody tr th {\n",
       "        vertical-align: top;\n",
       "    }\n",
       "\n",
       "    .dataframe thead th {\n",
       "        text-align: right;\n",
       "    }\n",
       "</style>\n",
       "<table border=\"1\" class=\"dataframe\">\n",
       "  <thead>\n",
       "    <tr style=\"text-align: right;\">\n",
       "      <th></th>\n",
       "      <th>comercios</th>\n",
       "      <th>ventas_count</th>\n",
       "    </tr>\n",
       "  </thead>\n",
       "  <tbody>\n",
       "    <tr>\n",
       "      <th>0</th>\n",
       "      <td>20</td>\n",
       "      <td>21</td>\n",
       "    </tr>\n",
       "    <tr>\n",
       "      <th>1</th>\n",
       "      <td>69</td>\n",
       "      <td>90</td>\n",
       "    </tr>\n",
       "    <tr>\n",
       "      <th>2</th>\n",
       "      <td>1</td>\n",
       "      <td>1</td>\n",
       "    </tr>\n",
       "    <tr>\n",
       "      <th>3</th>\n",
       "      <td>1</td>\n",
       "      <td>1</td>\n",
       "    </tr>\n",
       "    <tr>\n",
       "      <th>4</th>\n",
       "      <td>1</td>\n",
       "      <td>1</td>\n",
       "    </tr>\n",
       "    <tr>\n",
       "      <th>...</th>\n",
       "      <td>...</td>\n",
       "      <td>...</td>\n",
       "    </tr>\n",
       "    <tr>\n",
       "      <th>432092</th>\n",
       "      <td>118</td>\n",
       "      <td>4632</td>\n",
       "    </tr>\n",
       "    <tr>\n",
       "      <th>432093</th>\n",
       "      <td>246</td>\n",
       "      <td>6418</td>\n",
       "    </tr>\n",
       "    <tr>\n",
       "      <th>432094</th>\n",
       "      <td>220</td>\n",
       "      <td>4161</td>\n",
       "    </tr>\n",
       "    <tr>\n",
       "      <th>432095</th>\n",
       "      <td>588</td>\n",
       "      <td>5022</td>\n",
       "    </tr>\n",
       "    <tr>\n",
       "      <th>432096</th>\n",
       "      <td>780</td>\n",
       "      <td>3217</td>\n",
       "    </tr>\n",
       "  </tbody>\n",
       "</table>\n",
       "<p>432097 rows × 2 columns</p>\n",
       "</div>"
      ],
      "text/plain": [
       "        comercios  ventas_count\n",
       "0              20            21\n",
       "1              69            90\n",
       "2               1             1\n",
       "3               1             1\n",
       "4               1             1\n",
       "...           ...           ...\n",
       "432092        118          4632\n",
       "432093        246          6418\n",
       "432094        220          4161\n",
       "432095        588          5022\n",
       "432096        780          3217\n",
       "\n",
       "[432097 rows x 2 columns]"
      ]
     },
     "execution_count": 52,
     "metadata": {},
     "output_type": "execute_result"
    }
   ],
   "source": [
    "ventas[['comercios','ventas_count']]"
   ]
  },
  {
   "cell_type": "markdown",
   "id": "1b780fcc-742d-493b-8191-115a880ce10a",
   "metadata": {
    "tags": []
   },
   "source": [
    "## Exportar Base"
   ]
  },
  {
   "cell_type": "code",
   "execution_count": 44,
   "id": "06c397ab-c9d2-4a11-8d8a-40924bd4ac3f",
   "metadata": {},
   "outputs": [
    {
     "name": "stdout",
     "output_type": "stream",
     "text": [
      "Client creating using default project: insights-295219\n"
     ]
    }
   ],
   "source": [
    "client = bigquery.Client(location=\"US\")\n",
    "print(\"Client creating using default project: {}\".format(client.project))"
   ]
  },
  {
   "cell_type": "code",
   "execution_count": 45,
   "id": "80bb52f2-acf8-4c83-b1a5-997099f5d703",
   "metadata": {},
   "outputs": [],
   "source": [
    "# Define a name for the new dataset.\n",
    "dataset_id = 'workzone'\n",
    "\n",
    "# The project defaults to the Client's project if not specified.\n",
    "dataset = client.get_dataset(dataset_id)  # API request"
   ]
  },
  {
   "cell_type": "markdown",
   "id": "ded5d2a3-2945-4147-abc2-f3113d9b7295",
   "metadata": {
    "tags": []
   },
   "source": [
    "## Exportar tabla con informacion de ventas"
   ]
  },
  {
   "cell_type": "code",
   "execution_count": 46,
   "id": "79d2cc5d-d4d8-475c-bed6-d6159cf9b4e0",
   "metadata": {},
   "outputs": [
    {
     "name": "stdout",
     "output_type": "stream",
     "text": [
      "Loaded dataframe to /projects/insights-295219/datasets/workzone/tables/SE_02_map_seguimiento\n"
     ]
    }
   ],
   "source": [
    "table_ref = dataset.table(\"SE_02_map_seguimiento\")\n",
    "\n",
    "job_config = bigquery.job.LoadJobConfig()\n",
    "job_config.write_disposition = bigquery.WriteDisposition.WRITE_TRUNCATE\n",
    "\n",
    "job = client.load_table_from_dataframe(mapa , table_ref, location=\"US\", job_config=job_config)\n",
    "\n",
    "job.result()  # Waits for table load to complete.\n",
    "print(\"Loaded dataframe to {}\".format(table_ref.path))"
   ]
  },
  {
   "cell_type": "code",
   "execution_count": 47,
   "id": "5abc90c9-b307-44dc-bfb1-2ef737872342",
   "metadata": {},
   "outputs": [],
   "source": [
    "## Exportar mapa con geomtrias de estrato, localidades, etc."
   ]
  },
  {
   "cell_type": "code",
   "execution_count": 48,
   "id": "22650582-904a-4fb0-89fd-5c3dc1c030ef",
   "metadata": {},
   "outputs": [
    {
     "name": "stdout",
     "output_type": "stream",
     "text": [
      "Loaded dataframe to /projects/insights-295219/datasets/workzone/tables/SE_01_base_seguimiento\n"
     ]
    }
   ],
   "source": [
    "table_ref = dataset.table(\"SE_01_base_seguimiento\")\n",
    "\n",
    "job_config = bigquery.job.LoadJobConfig()\n",
    "job_config.write_disposition = bigquery.WriteDisposition.WRITE_TRUNCATE\n",
    "\n",
    "job = client.load_table_from_dataframe(ventas , table_ref, location=\"US\")\n",
    "\n",
    "job.result()  # Waits for table load to complete.\n",
    "print(\"Loaded dataframe to {}\".format(table_ref.path))"
   ]
  },
  {
   "cell_type": "code",
   "execution_count": 49,
   "id": "893304e8-fcfd-43fc-bf45-6ddb9136eaa3",
   "metadata": {},
   "outputs": [
    {
     "name": "stdout",
     "output_type": "stream",
     "text": [
      "Loaded dataframe to /projects/insights-295219/datasets/workzone/tables/SE_03_maplocalidades_seguimiento\n"
     ]
    }
   ],
   "source": [
    "table_ref = dataset.table(\"SE_03_maplocalidades_seguimiento\")\n",
    "\n",
    "job_config = bigquery.job.LoadJobConfig()\n",
    "job_config.write_disposition = bigquery.WriteDisposition.WRITE_TRUNCATE\n",
    "\n",
    "job = client.load_table_from_dataframe(mapa_agr , table_ref, location=\"US\")\n",
    "\n",
    "job.result()  # Waits for table load to complete.\n",
    "print(\"Loaded dataframe to {}\".format(table_ref.path))"
   ]
  },
  {
   "cell_type": "code",
   "execution_count": 50,
   "id": "ffe9a9ab-9eac-4ff6-840b-da666cfc4bd7",
   "metadata": {},
   "outputs": [
    {
     "name": "stdout",
     "output_type": "stream",
     "text": [
      "<class 'geopandas.geodataframe.GeoDataFrame'>\n",
      "Int64Index: 6494 entries, 0 to 6493\n",
      "Data columns (total 11 columns):\n",
      " #   Column        Non-Null Count  Dtype   \n",
      "---  ------        --------------  -----   \n",
      " 0   year          6494 non-null   int64   \n",
      " 1   mes           6494 non-null   int64   \n",
      " 2   Nombre_Loc    6488 non-null   object  \n",
      " 3   ID_Barrio     6488 non-null   object  \n",
      " 4   Nombre_UPZ    6488 non-null   object  \n",
      " 5   ID_estrato    6488 non-null   object  \n",
      " 6   ventas_sum    6494 non-null   float64 \n",
      " 7   ventas_count  6494 non-null   float64 \n",
      " 8   ID_Localidad  6488 non-null   float64 \n",
      " 9   ID_UPZ        6488 non-null   float64 \n",
      " 10  geometry      6488 non-null   geometry\n",
      "dtypes: float64(4), geometry(1), int64(2), object(4)\n",
      "memory usage: 866.9+ KB\n"
     ]
    }
   ],
   "source": [
    "mapa.info()"
   ]
  },
  {
   "cell_type": "code",
   "execution_count": null,
   "id": "df233b14-5677-47ab-a720-992e46d58416",
   "metadata": {},
   "outputs": [],
   "source": [
    "mapa['Nombre_Loc'].value_counts()"
   ]
  },
  {
   "cell_type": "code",
   "execution_count": null,
   "id": "69b15177-4495-448f-9b46-138814198a91",
   "metadata": {},
   "outputs": [],
   "source": [
    "# client = bigquery.Client(location=\"us-east4\",project='atlas-323415')\n",
    "# print(\"Client creating using default project: {}\".format(client.project))\n",
    "# # Define a name for the new dataset.\n",
    "# dataset_id = 'creditos'\n",
    "\n",
    "# # The project defaults to the Client's project if not specified.\n",
    "# dataset = client.get_dataset(dataset_id)  # API reque<zqa12cxst\n",
    "# table_ref = dataset.table(\"SE_01_base_seguimiento\")\n",
    "# job_config = bigquery.job.LoadJobConfig()\n",
    "# job_config.write_disposition = bigquery.WriteDisposition.WRITE_TRUNCATE\n",
    "\n",
    "# job = client.load_table_from_dataframe(ventas , table_ref, location=\"US\")\n",
    "\n",
    "# job.result()  # Waits for table load to complete.\n",
    "# print(\"Loaded dataframe to {}\".format(table_ref.path))"
   ]
  },
  {
   "cell_type": "code",
   "execution_count": null,
   "id": "7bcc1d8c-e221-436e-a06c-364a60aea608",
   "metadata": {},
   "outputs": [],
   "source": []
  }
 ],
 "metadata": {
  "environment": {
   "kernel": "conda-root-py",
   "name": "common-cpu.m87",
   "type": "gcloud",
   "uri": "gcr.io/deeplearning-platform-release/base-cpu:m87"
  },
  "kernelspec": {
   "display_name": "Python [conda env:root] *",
   "language": "python",
   "name": "conda-root-py"
  },
  "language_info": {
   "codemirror_mode": {
    "name": "ipython",
    "version": 3
   },
   "file_extension": ".py",
   "mimetype": "text/x-python",
   "name": "python",
   "nbconvert_exporter": "python",
   "pygments_lexer": "ipython3",
   "version": "3.7.12"
  }
 },
 "nbformat": 4,
 "nbformat_minor": 5
}
